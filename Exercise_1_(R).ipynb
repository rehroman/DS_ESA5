{
 "cells": [
  {
   "cell_type": "markdown",
   "id": "0cffc66a-b9f9-4358-b358-616871e26191",
   "metadata": {},
   "source": [
    "Exercise 1 (R)\n",
    "\n",
    "Write a program to guess a number in between0 and 100!\n",
    "\n",
    "Hence the computer invents the number and the user = you tries to guess it!"
   ]
  },
  {
   "cell_type": "code",
   "execution_count": null,
   "id": "42f4e9c5-67f6-4980-93f9-fcaf576b7b9d",
   "metadata": {},
   "outputs": [],
   "source": [
    "# Ein Zahlenratespiel: Zufallszahl wird erstellt und der User soll diese Zahl erraten."
   ]
  },
  {
   "cell_type": "code",
   "execution_count": null,
   "id": "78ef3005-1a05-473d-889b-ba39911a7d31",
   "metadata": {},
   "outputs": [],
   "source": [
    "target_min <- 0\n",
    "target_max <- 100"
   ]
  },
  {
   "cell_type": "code",
   "execution_count": null,
   "id": "8a4040e5-f059-435b-b1f9-67cc65a2fb3e",
   "metadata": {},
   "outputs": [],
   "source": [
    "target_number <- round(runif(1, min=target_min, max=target_max+1))"
   ]
  },
  {
   "cell_type": "code",
   "execution_count": null,
   "id": "7448b32b-3f87-4bc7-868b-c24d61c3eef5",
   "metadata": {},
   "outputs": [],
   "source": [
    "print(paste(\"Gib eine Zahl zwischen\", target_min, \"und\", target_max, \"ein: \"))"
   ]
  },
  {
   "cell_type": "code",
   "execution_count": null,
   "id": "4036c7f5-9405-419e-b7f3-8bdba50b582c",
   "metadata": {},
   "outputs": [],
   "source": [
    "entered_number <- readline(prompt=\"Deine Zahl: \")"
   ]
  },
  {
   "cell_type": "code",
   "execution_count": null,
   "id": "5dae2929-ba73-4f2c-8658-35474a05ff37",
   "metadata": {},
   "outputs": [],
   "source": [
    "if(entered_number == target_number) {\n",
    "    print(paste(\"Korrekt! Die gesuchte Zahl ist:\", target_number))\n",
    "    } else {\n",
    "    print(paste(\"Leider falsche! Die gesuchte Zahl ist:\", target_number))\n",
    "    }"
   ]
  }
 ],
 "metadata": {
  "kernelspec": {
   "display_name": "R",
   "language": "R",
   "name": "ir"
  },
  "language_info": {
   "codemirror_mode": "r",
   "file_extension": ".r",
   "mimetype": "text/x-r-source",
   "name": "R",
   "pygments_lexer": "r",
   "version": "4.2.0"
  }
 },
 "nbformat": 4,
 "nbformat_minor": 5
}
