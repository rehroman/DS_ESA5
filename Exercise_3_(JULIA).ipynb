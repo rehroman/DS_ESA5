{
 "cells": [
  {
   "cell_type": "markdown",
   "id": "12b01a91-e845-4fe0-9c6d-9509852f2a83",
   "metadata": {},
   "source": [
    "Exercise 3 (JULIA)\n",
    "\n",
    "Create a 2x4 two dimensional matrix with random floats in it and in the next step determine the biggest element."
   ]
  },
  {
   "cell_type": "code",
   "execution_count": 5,
   "id": "5876662b-d769-4540-bcb8-b813121119f3",
   "metadata": {},
   "outputs": [
    {
     "data": {
      "text/plain": [
       "2×4 Matrix{Int64}:\n",
       " 90   7  86  69\n",
       " 37  11  12  86"
      ]
     },
     "execution_count": 5,
     "metadata": {},
     "output_type": "execute_result"
    }
   ],
   "source": [
    "m = rand(1:100,(2,4))"
   ]
  },
  {
   "cell_type": "code",
   "execution_count": 6,
   "id": "ed03197f-b4d8-4056-a3be-b0945c99a52b",
   "metadata": {},
   "outputs": [
    {
     "data": {
      "text/plain": [
       "(90, CartesianIndex(1, 1))"
      ]
     },
     "execution_count": 6,
     "metadata": {},
     "output_type": "execute_result"
    }
   ],
   "source": [
    "findmax(m)"
   ]
  }
 ],
 "metadata": {
  "kernelspec": {
   "display_name": "Julia 1.7.3",
   "language": "julia",
   "name": "julia-1.7"
  },
  "language_info": {
   "file_extension": ".jl",
   "mimetype": "application/julia",
   "name": "julia",
   "version": "1.7.3"
  }
 },
 "nbformat": 4,
 "nbformat_minor": 5
}
