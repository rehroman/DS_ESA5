{
 "cells": [
  {
   "cell_type": "markdown",
   "id": "271cee3d-8570-44c8-8600-c6b11955efa5",
   "metadata": {},
   "source": [
    "Exercise 4 (JULIA)\n",
    "\n",
    "### 1. Create two matrices of the same layout and test if addition and subtraction of the matrix works as expected: C = A + B"
   ]
  },
  {
   "cell_type": "code",
   "execution_count": 1,
   "id": "a25f4041-fa3d-4f26-b9aa-08d9b76f19f3",
   "metadata": {},
   "outputs": [
    {
     "data": {
      "text/plain": [
       "2×4 Matrix{Int64}:\n",
       " 4  3  3  1\n",
       " 8  3  3  4"
      ]
     },
     "execution_count": 1,
     "metadata": {},
     "output_type": "execute_result"
    }
   ],
   "source": [
    "A= rand([1,2,3,4,5,6,7,8,9],(2,4))\n",
    "B= rand([1,2,3,4,5,6,7,8,9],(2,4))\n",
    "A"
   ]
  },
  {
   "cell_type": "code",
   "execution_count": 2,
   "id": "a9a5418a-c4f0-4e2a-aa58-4191e10fe4ac",
   "metadata": {},
   "outputs": [
    {
     "data": {
      "text/plain": [
       "2×4 Matrix{Int64}:\n",
       " 9  6  1  6\n",
       " 2  6  3  9"
      ]
     },
     "execution_count": 2,
     "metadata": {},
     "output_type": "execute_result"
    }
   ],
   "source": [
    "B"
   ]
  },
  {
   "cell_type": "code",
   "execution_count": 3,
   "id": "304190e0-85ac-42fb-af2f-6704056ecfd8",
   "metadata": {},
   "outputs": [
    {
     "data": {
      "text/plain": [
       "2×4 Matrix{Int64}:\n",
       " 13  9  4   7\n",
       " 10  9  6  13"
      ]
     },
     "execution_count": 3,
     "metadata": {},
     "output_type": "execute_result"
    }
   ],
   "source": [
    "C = A + B"
   ]
  },
  {
   "cell_type": "code",
   "execution_count": 4,
   "id": "f860e0e2-58e4-4165-8af5-ce471e392c36",
   "metadata": {},
   "outputs": [
    {
     "data": {
      "text/plain": [
       "2×4 Matrix{Int64}:\n",
       " -5  -3  2  -5\n",
       "  6  -3  0  -5"
      ]
     },
     "execution_count": 4,
     "metadata": {},
     "output_type": "execute_result"
    }
   ],
   "source": [
    "C = A - B"
   ]
  },
  {
   "cell_type": "markdown",
   "id": "6fdc547c-2098-46a6-af66-5e484471851c",
   "metadata": {},
   "source": [
    "\n",
    "##### => Die Addition und Subtraktion funktioniert wie erwartet da die beiden Matrizen in Zeilen- und Spaltenzahl übereinstimmen.\n"
   ]
  },
  {
   "cell_type": "markdown",
   "id": "bdcd25d7-a468-4630-a9e9-5a0f0c608678",
   "metadata": {},
   "source": [
    "\n",
    "### 2. Now compare matrix multiplication either this way A * B and this way A .* B. Whats the difference?!\n"
   ]
  },
  {
   "cell_type": "code",
   "execution_count": null,
   "id": "5fb73b2b-59ad-49b4-8138-f6a317761e73",
   "metadata": {},
   "outputs": [],
   "source": [
    "A * B"
   ]
  },
  {
   "cell_type": "markdown",
   "id": "236dfcba-34e2-4884-9d6c-9f2ebf1fd654",
   "metadata": {},
   "source": [
    "\n",
    "=> Das Multiplizieren von A und B ist nicht möglich, da die Spaltenanzahl von A nicht der Zeilenanzahl von B entspricht.\n"
   ]
  },
  {
   "cell_type": "code",
   "execution_count": 6,
   "id": "4fbf0242-6a13-49fa-8548-38a68234d48b",
   "metadata": {},
   "outputs": [
    {
     "data": {
      "text/plain": [
       "2×4 Matrix{Int64}:\n",
       " 36  18  3   6\n",
       " 16  18  9  36"
      ]
     },
     "execution_count": 6,
     "metadata": {},
     "output_type": "execute_result"
    }
   ],
   "source": [
    "A .* B"
   ]
  },
  {
   "cell_type": "markdown",
   "id": "81e1a2d4-2a6c-4f56-84e1-99887aa96fdd",
   "metadata": {},
   "source": [
    "\n",
    "##### => Mit .* funktioniert es, da es sich jetzt um das dot product handelt, bei dem pro Element multipliziert wird und nicht Reihe mal Spalte.\n"
   ]
  },
  {
   "cell_type": "markdown",
   "id": "264b25e5-95fc-401d-b447-2a7d6490aa47",
   "metadata": {},
   "source": [
    "\n",
    "### 3. What about matrix division with \"/\" or \"\\\"?!\n"
   ]
  },
  {
   "cell_type": "code",
   "execution_count": 7,
   "id": "384ca04a-f603-4d39-9cef-a4affe55a169",
   "metadata": {},
   "outputs": [
    {
     "data": {
      "text/plain": [
       "2×2 Matrix{Float64}:\n",
       " 0.429406  -0.0281855\n",
       " 0.836602  -0.106637"
      ]
     },
     "execution_count": 7,
     "metadata": {},
     "output_type": "execute_result"
    }
   ],
   "source": [
    "A / B"
   ]
  },
  {
   "cell_type": "code",
   "execution_count": 8,
   "id": "9274c5a3-e41c-4820-9b98-2547b879b78e",
   "metadata": {},
   "outputs": [
    {
     "data": {
      "text/plain": [
       "4×4 Matrix{Float64}:\n",
       " -0.225484  0.100143   0.100143   -0.235875\n",
       "  0.327315  0.144954   0.144954    0.148851\n",
       "  0.259254  0.0576698  0.0576698   0.155994\n",
       "  0.634368  0.19522    0.19522     0.345629"
      ]
     },
     "execution_count": 8,
     "metadata": {},
     "output_type": "execute_result"
    }
   ],
   "source": [
    "B \\ A"
   ]
  },
  {
   "cell_type": "markdown",
   "id": "4b5a9f77-5282-4540-ae61-195da7cb8162",
   "metadata": {},
   "source": [
    "\n",
    "##### => Die Division von Matrizen ist nicht definiert. In manchen Fällen ist aber eine Multiplikation mit der inversen Matrix möglich wie bei B\\A.\n"
   ]
  },
  {
   "cell_type": "markdown",
   "id": "0f967bd3-64e8-446f-9662-9a2b8cddc30b",
   "metadata": {},
   "source": [
    "\n",
    "### 4. Create a 3x3 integer matrix A with useful numbers. Now try A+1, A-1, A*2, A/2.\n"
   ]
  },
  {
   "cell_type": "code",
   "execution_count": 9,
   "id": "f687a9ac-da23-4c92-9f11-6f400abfcd50",
   "metadata": {},
   "outputs": [
    {
     "data": {
      "text/plain": [
       "3×3 Matrix{Int64}:\n",
       " 7  9  3\n",
       " 4  3  6\n",
       " 5  2  1"
      ]
     },
     "execution_count": 9,
     "metadata": {},
     "output_type": "execute_result"
    }
   ],
   "source": [
    "A = rand([1,2,3,4,5,6,7,8,9],(3,3))"
   ]
  },
  {
   "cell_type": "code",
   "execution_count": null,
   "id": "d0d3e3d0-7fb4-4b87-b653-2a7e117b7530",
   "metadata": {},
   "outputs": [],
   "source": [
    "A + 1"
   ]
  },
  {
   "cell_type": "code",
   "execution_count": null,
   "id": "41e05681-61fb-4f96-9387-7649a0ac00a8",
   "metadata": {},
   "outputs": [],
   "source": [
    "A - 1"
   ]
  },
  {
   "cell_type": "markdown",
   "id": "d2f10d05-4ace-46a7-8138-9d2e1b19f083",
   "metadata": {
    "tags": []
   },
   "source": [
    "\n",
    "##### => Addition und Subtraktion mit 1 funktionieren nicht, Anzahl der Zeilen und Spalten müssen überein stimmen\n"
   ]
  },
  {
   "cell_type": "code",
   "execution_count": 12,
   "id": "334bdbce-46c9-45a7-a1ad-ca7e9964b195",
   "metadata": {},
   "outputs": [
    {
     "data": {
      "text/plain": [
       "3×3 Matrix{Int64}:\n",
       " 14  18   6\n",
       "  8   6  12\n",
       " 10   4   2"
      ]
     },
     "execution_count": 12,
     "metadata": {},
     "output_type": "execute_result"
    }
   ],
   "source": [
    "A*2"
   ]
  },
  {
   "cell_type": "code",
   "execution_count": 13,
   "id": "771fb6a0-4e86-46b7-aaf6-e3edcf632b18",
   "metadata": {},
   "outputs": [
    {
     "data": {
      "text/plain": [
       "3×3 Matrix{Float64}:\n",
       " 3.5  4.5  1.5\n",
       " 2.0  1.5  3.0\n",
       " 2.5  1.0  0.5"
      ]
     },
     "execution_count": 13,
     "metadata": {},
     "output_type": "execute_result"
    }
   ],
   "source": [
    "A/2"
   ]
  },
  {
   "cell_type": "markdown",
   "id": "0739f330-4843-4740-8465-9e7fda905f2d",
   "metadata": {},
   "source": [
    "\n",
    "##### => Multiplikation und Division funktionieren jeweils pro Element, da es sich um eine Skalarmultiplikation bzw. Division handelt.\n"
   ]
  },
  {
   "cell_type": "markdown",
   "id": "88b63318-608c-40ef-b37b-b252e3e711de",
   "metadata": {},
   "source": [
    "\n",
    "### 5. Now multiply a 3x4 matrix with a suitable (4)vector.\n"
   ]
  },
  {
   "cell_type": "code",
   "execution_count": 14,
   "id": "aa602bce-ede3-4aa8-bfc4-abb41843ed62",
   "metadata": {},
   "outputs": [
    {
     "data": {
      "text/plain": [
       "3×4 Matrix{Int64}:\n",
       " 6  9  3  3\n",
       " 4  2  3  2\n",
       " 3  7  8  4"
      ]
     },
     "execution_count": 14,
     "metadata": {},
     "output_type": "execute_result"
    }
   ],
   "source": [
    "A = rand([1,2,3,4,5,6,7,8,9],(3,4))\n",
    "B = [rand(1:10);rand(1:10);rand(1:10);rand(1:10)]\n",
    "A"
   ]
  },
  {
   "cell_type": "code",
   "execution_count": 15,
   "id": "45bf2693-b005-4cf2-a3c0-db8298f34ae2",
   "metadata": {},
   "outputs": [
    {
     "data": {
      "text/plain": [
       "4-element Vector{Int64}:\n",
       "  3\n",
       " 10\n",
       "  9\n",
       " 10"
      ]
     },
     "execution_count": 15,
     "metadata": {},
     "output_type": "execute_result"
    }
   ],
   "source": [
    "B"
   ]
  },
  {
   "cell_type": "code",
   "execution_count": 16,
   "id": "5b8a0efc-b41f-44b0-96a7-56ea3be5bc59",
   "metadata": {},
   "outputs": [
    {
     "data": {
      "text/plain": [
       "3-element Vector{Int64}:\n",
       " 165\n",
       "  79\n",
       " 191"
      ]
     },
     "execution_count": 16,
     "metadata": {},
     "output_type": "execute_result"
    }
   ],
   "source": [
    "A * B"
   ]
  },
  {
   "cell_type": "markdown",
   "id": "086df4f9-f523-4a81-b502-75fd6417c669",
   "metadata": {},
   "source": [
    "##### => Das Ergebnis ist ein 3 elementiger Vektor, der durch den Zeilen mal in diesem Fall immer gleiche Spalte erreicht wird."
   ]
  }
 ],
 "metadata": {
  "kernelspec": {
   "display_name": "Julia 1.7.3",
   "language": "julia",
   "name": "julia-1.7"
  },
  "language_info": {
   "file_extension": ".jl",
   "mimetype": "application/julia",
   "name": "julia",
   "version": "1.7.3"
  }
 },
 "nbformat": 4,
 "nbformat_minor": 5
}
